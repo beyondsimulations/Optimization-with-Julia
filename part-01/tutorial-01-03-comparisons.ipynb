{
  "cells": [
    {
      "cell_type": "markdown",
      "metadata": {},
      "source": [
        "# Tutorial I.III - Comparison Operators\n",
        "\n",
        "Optimization with Julia\n",
        "\n",
        "# Introduction\n",
        "\n",
        "Imagine you’re teaching a computer to make decisions. Just like we\n",
        "compare things in everyday life (“Is it raining?”, “Do I have enough\n",
        "money?”), computers need ways to compare values and make choices. This\n",
        "tutorial will show you how to help computers make these comparisons!\n",
        "\n",
        "Follow the instructions, write your code in the designated code blocks,\n",
        "and execute the corresponding code cell.\n",
        "\n",
        "# Section 1 - Comparisons\n",
        "\n",
        "In everyday life, we make comparisons all the time:\n",
        "\n",
        "-   Is this coffee too hot?\n",
        "-   Do I have enough money for lunch?\n",
        "-   Is my password correct?\n",
        "\n",
        "In Julia, we use special symbols to make these comparisons. Comparisons\n",
        "return a boolean value (true or false). You can use these directly or\n",
        "store them in a variable. For example:"
      ],
      "id": "e01e6863-feb6-4993-ad67-63b7a9aa1d7c"
    },
    {
      "cell_type": "code",
      "execution_count": 1,
      "metadata": {},
      "outputs": [
        {
          "output_type": "display_data",
          "metadata": {},
          "data": {
            "text/plain": [
              "true"
            ]
          }
        }
      ],
      "source": [
        "user_input = \"secret123\"\n",
        "password_correct = (user_input == \"secret123\")"
      ],
      "id": "2"
    },
    {
      "cell_type": "code",
      "execution_count": 1,
      "metadata": {},
      "outputs": [
        {
          "output_type": "display_data",
          "metadata": {},
          "data": {
            "text/plain": [
              "false"
            ]
          }
        }
      ],
      "source": [
        "coffee_temp = 75\n",
        "temperature_safe = (coffee_temp <= 70)"
      ],
      "id": "4"
    },
    {
      "cell_type": "markdown",
      "metadata": {},
      "source": [
        "The following are potential real-world examples:\n",
        "\n",
        "``` julia\n",
        "# Do I have enough money?\n",
        "enough_money = (wallet >= price)    \n",
        "# Is the person an adult?\n",
        "is_adult = (age >= 18)            \n",
        "# Is this person Elio?\n",
        "same_name = (name == \"Elio\")     \n",
        "```\n",
        "\n",
        "Here are all the comparison operators:\n",
        "\n",
        "| Symbol | Meaning                  | Real-world Example              |\n",
        "|--------|--------------------------|---------------------------------|\n",
        "| `==`   | Equal to                 | Is my password correct?         |\n",
        "| `!=`   | Not equal to             | Is this a different person?     |\n",
        "| `<`    | Less than                | Is it colder than freezing?     |\n",
        "| `>`    | Greater than             | Do I have more than \\$10?       |\n",
        "| `<=`   | Less than or equal to    | Can this ride fit in my garage? |\n",
        "| `>=`   | Greater than or equal to | Am I old enough to vote?        |\n",
        "\n",
        "Let’s try some examples:"
      ],
      "id": "0fc37ea9-69e3-40da-abb0-cae14b6b6a4a"
    },
    {
      "cell_type": "code",
      "execution_count": 1,
      "metadata": {},
      "outputs": [
        {
          "output_type": "stream",
          "name": "stdout",
          "text": [
            "Is it freezing? false"
          ]
        }
      ],
      "source": [
        "# Temperature comparison\n",
        "temp = 25\n",
        "is_freezing = (temp <= 0)\n",
        "println(\"Is it freezing? $is_freezing\")"
      ],
      "id": "6"
    },
    {
      "cell_type": "code",
      "execution_count": 1,
      "metadata": {},
      "outputs": [
        {
          "output_type": "stream",
          "name": "stdout",
          "text": [
            "Can I afford it? true"
          ]
        }
      ],
      "source": [
        "# Price comparison\n",
        "budget = 50\n",
        "price = 45\n",
        "can_afford = (budget >= price)\n",
        "println(\"Can I afford it? $can_afford\")"
      ],
      "id": "8"
    },
    {
      "cell_type": "markdown",
      "metadata": {},
      "source": [
        "## Exercise 1.1 - Compare if 10 is greater than 5\n",
        "\n",
        "Compare if 10 is greater than 5 and store the result in `comparison1`."
      ],
      "id": "75ea8883-abcf-4672-89ec-47e7d3195323"
    },
    {
      "cell_type": "code",
      "execution_count": 0,
      "metadata": {},
      "outputs": [],
      "source": [
        "# YOUR CODE BELOW\n"
      ],
      "id": "10"
    },
    {
      "cell_type": "code",
      "execution_count": 0,
      "metadata": {},
      "outputs": [],
      "source": [
        "# Test your answer\n",
        "@assert comparison1 == true\n",
        "println(\"comparison1 is \", comparison1)"
      ],
      "id": "12"
    },
    {
      "cell_type": "markdown",
      "metadata": {},
      "source": [
        "## Exercise 1.2 - Compare if x is not equal to y\n",
        "\n",
        "Define variables `x` with value `\"Hello\"` and `y` with value `\"world\"`.\n",
        "Compare if `x` is not equal to `y` and store the result in\n",
        "`comparison2`."
      ],
      "id": "800b4cbc-70e9-4b34-8784-e60b546eae98"
    },
    {
      "cell_type": "code",
      "execution_count": 0,
      "metadata": {},
      "outputs": [],
      "source": [
        "# YOUR CODE BELOW\n"
      ],
      "id": "14"
    },
    {
      "cell_type": "code",
      "execution_count": 0,
      "metadata": {},
      "outputs": [],
      "source": [
        "# Test your answer\n",
        "@assert x == \"Hello\"\n",
        "@assert y == \"world\"\n",
        "@assert comparison2 == true\n",
        "println(\"Comparison2 is \", comparison2)"
      ],
      "id": "16"
    },
    {
      "cell_type": "markdown",
      "metadata": {},
      "source": [
        "# Section 2 - Logical Operators\n",
        "\n",
        "Sometimes we need to combine multiple comparisons in our code, just like\n",
        "in real life decisions:\n",
        "\n",
        "-   “Can I go to the party?” might depend on:\n",
        "    -   (Is it weekend?) AND (Have I finished my studies?)\n",
        "-   “Should I take an umbrella?” might depend on:\n",
        "    -   (Is it raining?) OR (Is it likely to rain?)\n",
        "\n",
        "Julia uses three main logical operators:\n",
        "\n",
        "``` julia\n",
        "# AND (&&): Both conditions must be true\n",
        "can_go_to_party = (is_weekend && homework_done)\n",
        "\n",
        "# OR (||): At least one condition must be true\n",
        "need_umbrella = (is_raining || forecast_says_rain)\n",
        "\n",
        "# NOT (!): Opposite of the condition\n",
        "is_closed = !is_open\n",
        "```\n",
        "\n",
        "Real-world Examples:"
      ],
      "id": "f8ecc820-91d6-429a-84d8-87dde6708a73"
    },
    {
      "cell_type": "code",
      "execution_count": 1,
      "metadata": {},
      "outputs": [
        {
          "output_type": "stream",
          "name": "stdout",
          "text": [
            "Can I buy the game? true"
          ]
        }
      ],
      "source": [
        "# Can I buy this game?\n",
        "age = 25\n",
        "money = 60\n",
        "game_price = 50\n",
        "can_buy = (age >= 18) && (money >= game_price)\n",
        "println(\"Can I buy the game? $can_buy\")"
      ],
      "id": "18"
    },
    {
      "cell_type": "code",
      "execution_count": 1,
      "metadata": {},
      "outputs": [
        {
          "output_type": "stream",
          "name": "stdout",
          "text": [
            "Should I wear a coat? true"
          ]
        }
      ],
      "source": [
        "# Should I wear a coat?\n",
        "temperature = 5\n",
        "is_raining = true\n",
        "need_coat = (temperature < 10) || is_raining\n",
        "println(\"Should I wear a coat? $need_coat\")"
      ],
      "id": "20"
    },
    {
      "cell_type": "markdown",
      "metadata": {},
      "source": [
        "> **Tip**\n",
        ">\n",
        "> Think of those logical operators as follows:\n",
        ">\n",
        "> -   `&&` (AND) as a strict condition - everything must be perfect\n",
        "> -   `||` (OR) as a lenient condition - any good reason is enough\n",
        "> -   `!` (NOT) as the opposite of something\n",
        "\n",
        "## Exercise 2.1 - Use the AND operator\n",
        "\n",
        "Use the `AND` operator to check if `10` is greater than `5` and `hello`\n",
        "is equal to `hello`. Store the result in `logic1`."
      ],
      "id": "36469c58-bd10-4d40-ad6f-ea4bf3dac347"
    },
    {
      "cell_type": "code",
      "execution_count": 0,
      "metadata": {},
      "outputs": [],
      "source": [
        "# YOUR CODE BELOW\n"
      ],
      "id": "22"
    },
    {
      "cell_type": "code",
      "execution_count": 0,
      "metadata": {},
      "outputs": [],
      "source": [
        "# Test your answer\n",
        "@assert logic1 == true\n",
        "println(\"logic1 is \", logic1)"
      ],
      "id": "24"
    },
    {
      "cell_type": "markdown",
      "metadata": {},
      "source": [
        "## Exercise 2.2 - Use the OR operator\n",
        "\n",
        "Use the `OR` operator to check if `10` is less than `5` or `hello` is\n",
        "equal to `hello`. Store the result in `logic2`."
      ],
      "id": "866df979-ec68-48f5-ad3a-06e7ffab45ec"
    },
    {
      "cell_type": "code",
      "execution_count": 0,
      "metadata": {},
      "outputs": [],
      "source": [
        "# YOUR CODE BELOW\n"
      ],
      "id": "26"
    },
    {
      "cell_type": "code",
      "execution_count": 0,
      "metadata": {},
      "outputs": [],
      "source": [
        "# Test your answer\n",
        "@assert logic2 == true\n",
        "println(\"logic2 is \", logic2)"
      ],
      "id": "28"
    },
    {
      "cell_type": "markdown",
      "metadata": {},
      "source": [
        "> **Tip**\n",
        ">\n",
        "> Julia uses short-circuit evaluation for `&&` and `||` operators. This\n",
        "> means that the second operand is only evaluated if necessary.\n",
        "\n",
        "## Exercise 2.3 - Use the NOT operator\n",
        "\n",
        "Check whether `10` is greater than `5` and store the result in `logic3`.\n",
        "Then, use the `NOT` operator to invert `logic3`. Store the result in\n",
        "`logic4`."
      ],
      "id": "4915ed0f-a8c8-4cac-9fa5-36c1ba832ded"
    },
    {
      "cell_type": "code",
      "execution_count": 0,
      "metadata": {},
      "outputs": [],
      "source": [
        "# YOUR CODE BELOW\n"
      ],
      "id": "30"
    },
    {
      "cell_type": "code",
      "execution_count": 0,
      "metadata": {},
      "outputs": [],
      "source": [
        "# Test your answer\n",
        "@assert logic3 == true\n",
        "@assert logic4 == false\n",
        "println(\"logic3 is \", logic3,\" and logic4 is\", logic4)"
      ],
      "id": "32"
    },
    {
      "cell_type": "markdown",
      "metadata": {},
      "source": [
        "## Exercise 2.4 - Chaining Comparisons\n",
        "\n",
        "Julia has a neat feature that lets you write comparisons the way you\n",
        "think about them:\n",
        "\n",
        "``` julia\n",
        "# Instead of writing:\n",
        "age >= 13 && age <= 19    # Is age between 13 and 19?\n",
        "\n",
        "# You can write:\n",
        "13 <= age <= 19          # Much more natural!\n",
        "```\n",
        "\n",
        "Real-world examples:\n",
        "\n",
        "``` julia\n",
        "# Is the body temperature normal?\n",
        "normal_temperature = (36.5 <= body_temp <= 37.5)\n",
        "\n",
        "# Is the current hour within working hours?\n",
        "working_hours = (9 <= current_hour < 17)\n",
        "```\n",
        "\n",
        "Check if `x` is between `1` and `10` (exclusive) using a chained\n",
        "comparison. Store the result in `chained_comparison`."
      ],
      "id": "9ac39613-a149-46a8-8078-edd8ec17bba4"
    },
    {
      "cell_type": "code",
      "execution_count": 0,
      "metadata": {},
      "outputs": [],
      "source": [
        "x = 5\n",
        "# YOUR CODE BELOW\n"
      ],
      "id": "34"
    },
    {
      "cell_type": "code",
      "execution_count": 0,
      "metadata": {},
      "outputs": [],
      "source": [
        "# Test your answer\n",
        "@assert chained_comparison == true\n",
        "println(\"chained_comparison is \", chained_comparison)"
      ],
      "id": "36"
    },
    {
      "cell_type": "markdown",
      "metadata": {},
      "source": [
        "# Conclusion\n",
        "\n",
        "Excellent work! You’ve completed the tutorial on Comparisons and logical\n",
        "operators in Julia. You’ve learned to compare values and use logical\n",
        "operators to combine or invert boolean values. Experiment with the code,\n",
        "try different operations, and understand how Julia handles logic.\n",
        "Continue to the next file to learn more.\n",
        "\n",
        "# Solutions\n",
        "\n",
        "You will find the solutions to all exercises online\n",
        "[here](https://github.com/beyondsimulations/Optimization-with-Julia) in\n",
        "the `solutions` folders for each part. However, I strongly encourage you\n",
        "to work on these exercises independently without searching explicitly\n",
        "for the exact answers to the exercises. Understanding someone else’s\n",
        "solution is very different from developing your own. Use the lecture\n",
        "notes and try to solve the exercises on your own. This approach will\n",
        "significantly enhance your learning and problem-solving skills.\n",
        "\n",
        "Remember, the goal is not just to complete the exercises, but to\n",
        "understand the concepts and improve your programming abilities. If you\n",
        "encounter difficulties, review the lecture materials, experiment with\n",
        "different approaches, and don’t hesitate to ask for clarification during\n",
        "class discussions."
      ],
      "id": "3a8ad3e2-f7ea-4edc-993f-aedba2ec7125"
    }
  ],
  "nbformat": 4,
  "nbformat_minor": 5,
  "metadata": {
    "kernel_info": {
      "name": "julia"
    },
    "kernelspec": {
      "name": "julia",
      "display_name": "Julia",
      "language": "julia"
    },
    "language_info": {
      "name": "julia",
      "codemirror_mode": "julia",
      "version": "1.11.2"
    }
  }
}