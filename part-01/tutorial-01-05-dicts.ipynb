{
  "cells": [
    {
      "cell_type": "markdown",
      "metadata": {},
      "source": [
        "# Tutorial I.V - Dictionaries\n",
        "\n",
        "Optimization with Julia\n",
        "\n",
        "# Introduction\n",
        "\n",
        "Imagine you have a school directory where each student’s name is\n",
        "associated with their unique student ID. This is similar to how\n",
        "dictionaries work in programming - they allow you to store and retrieve\n",
        "information using key-value pairs.\n",
        "\n",
        "Follow the structured instructions, implement your code in the\n",
        "designated blocks, and affirm your comprehension with `@assert`\n",
        "statements.\n",
        "\n",
        "# Section 1 - Creating and Accessing Dictionaries\n",
        "\n",
        "Think of it this way:\n",
        "\n",
        "-   A dictionary is like a lookup table\n",
        "-   Each entry has a unique key (like a student’s name)\n",
        "-   And an associated value (like their ID number)\n",
        "\n",
        "Let’s see some examples:"
      ],
      "id": "afd1a4e9-fa3b-4ca9-b6c4-d11eaee402e5"
    },
    {
      "cell_type": "code",
      "execution_count": 1,
      "metadata": {},
      "outputs": [
        {
          "output_type": "display_data",
          "metadata": {},
          "data": {
            "text/plain": [
              "Dict{String, Int64} with 3 entries:\n",
              "  \"Elio\" => 1001\n",
              "  \"Bob\"  => 1002\n",
              "  \"Yola\" => 1003"
            ]
          }
        }
      ],
      "source": [
        "# Creating a dictionary\n",
        "student_ids = Dict(\n",
        "    \"Elio\" => 1001, \n",
        "    \"Bob\" => 1002, \n",
        "    \"Yola\" => 1003\n",
        ")"
      ],
      "id": "2"
    },
    {
      "cell_type": "code",
      "execution_count": 1,
      "metadata": {},
      "outputs": [
        {
          "output_type": "stream",
          "name": "stdout",
          "text": [
            "Elio's ID: 1001"
          ]
        }
      ],
      "source": [
        "# Accessing values\n",
        "println(\"Elio's ID: \", student_ids[\"Elio\"])"
      ],
      "id": "4"
    },
    {
      "cell_type": "code",
      "execution_count": 1,
      "metadata": {},
      "outputs": [
        {
          "output_type": "display_data",
          "metadata": {},
          "data": {
            "text/plain": [
              "1004"
            ]
          }
        }
      ],
      "source": [
        "# Adding a new entry\n",
        "student_ids[\"David\"] = 1004"
      ],
      "id": "6"
    },
    {
      "cell_type": "code",
      "execution_count": 1,
      "metadata": {},
      "outputs": [
        {
          "output_type": "stream",
          "name": "stdout",
          "text": [
            "Eve is not in the directory"
          ]
        }
      ],
      "source": [
        "# Checking if a key exists\n",
        "if haskey(student_ids, \"Eve\")\n",
        "    println(\"Eve's ID: \", student_ids[\"Eve\"])\n",
        "else\n",
        "    println(\"Eve is not in the directory\")\n",
        "end"
      ],
      "id": "8"
    },
    {
      "cell_type": "markdown",
      "metadata": {},
      "source": [
        "## Exercise 1.1 - Create and Modify a Dictionary\n",
        "\n",
        "Add a new book called “Harry Potter and the Philosopher’s Stone” with\n",
        "the author “J.K. Rowling” to the created dictionary."
      ],
      "id": "f50a6912-ee5e-4dde-b9d5-c299f846dd46"
    },
    {
      "cell_type": "code",
      "execution_count": 0,
      "metadata": {},
      "outputs": [],
      "source": [
        "# Creates a dictionary of books and authors\n",
        "books = Dict(\n",
        "    \"1984\" => \"George Orwell\", \n",
        "    \"Nexus\" => \"Yuval Noah Harari\"\n",
        ")\n",
        "# YOUR CODE BELOW\n"
      ],
      "id": "10"
    },
    {
      "cell_type": "code",
      "execution_count": 0,
      "metadata": {},
      "outputs": [],
      "source": [
        "# Test your answer\n",
        "@assert haskey(books, \"Harry Potter and the Philosopher's Stone\")\n",
        "println(\"Great! You've successfully added a new book to the books dictionary.\")"
      ],
      "id": "12"
    },
    {
      "cell_type": "markdown",
      "metadata": {},
      "source": [
        "## Exercise 1.2 - Modify a Dictionary\n",
        "\n",
        "Change the author of “1984” to “Eric Blair” (George Orwell’s real name)."
      ],
      "id": "9b790b2d-712f-491e-b269-377bd26b44e4"
    },
    {
      "cell_type": "code",
      "execution_count": 0,
      "metadata": {},
      "outputs": [],
      "source": [
        "# YOUR CODE BELOW"
      ],
      "id": "14"
    },
    {
      "cell_type": "code",
      "execution_count": 0,
      "metadata": {},
      "outputs": [],
      "source": [
        "# Test your answer\n",
        "@assert books[\"1984\"] == \"Eric Blair\"\n",
        "println(\"Great! You've successfully modified the books dictionary.\")"
      ],
      "id": "16"
    },
    {
      "cell_type": "markdown",
      "metadata": {},
      "source": [
        "# Section 2 - Advanced Dictionary Operations\n",
        "\n",
        "Dictionaries can do more than just store simple information. Let’s\n",
        "explore some features:"
      ],
      "id": "1ea8edd8-07e9-4b15-b5d9-6de79d9f93a6"
    },
    {
      "cell_type": "code",
      "execution_count": 1,
      "metadata": {},
      "outputs": [
        {
          "output_type": "display_data",
          "metadata": {},
          "data": {
            "text/plain": [
              "Dict{String, Vector{Int64}} with 3 entries:\n",
              "  \"Elio\" => [85, 92, 78]\n",
              "  \"Bob\"  => [76, 88, 94]\n",
              "  \"Yola\" => [90, 91, 89]"
            ]
          }
        }
      ],
      "source": [
        "# A dictionary of student grades\n",
        "grades = Dict(\n",
        "    \"Elio\" => [85, 92, 78],\n",
        "    \"Bob\" => [76, 88, 94],\n",
        "    \"Yola\" => [90, 91, 89]\n",
        ")"
      ],
      "id": "18"
    },
    {
      "cell_type": "code",
      "execution_count": 1,
      "metadata": {},
      "outputs": [
        {
          "output_type": "stream",
          "name": "stdout",
          "text": [
            "Students: [\"Elio\", \"Bob\", \"Yola\"]"
          ]
        }
      ],
      "source": [
        "# Get all the keys (student names)\n",
        "student_names = keys(grades)\n",
        "println(\"Students: \", student_names)"
      ],
      "id": "20"
    },
    {
      "cell_type": "code",
      "execution_count": 1,
      "metadata": {},
      "outputs": [
        {
          "output_type": "stream",
          "name": "stdout",
          "text": [
            "All grades: [[85, 92, 78], [76, 88, 94], [90, 91, 89]]"
          ]
        }
      ],
      "source": [
        "# Get all the values (grade lists)\n",
        "all_grades = values(grades)\n",
        "println(\"All grades: \", all_grades)"
      ],
      "id": "22"
    },
    {
      "cell_type": "code",
      "execution_count": 1,
      "metadata": {},
      "outputs": [
        {
          "output_type": "stream",
          "name": "stdout",
          "text": [
            "Elio's average grade: 85.0\n",
            "Bob's average grade: 86.0\n",
            "Yola's average grade: 90.0"
          ]
        }
      ],
      "source": [
        "# Calculate average grade for each student\n",
        "for (student, grade_list) in grades\n",
        "    average = sum(grade_list) / length(grade_list)\n",
        "    println(\"$student's average grade: $average\")\n",
        "end"
      ],
      "id": "24"
    },
    {
      "cell_type": "markdown",
      "metadata": {},
      "source": [
        "> **Note**\n",
        ">\n",
        "> The `(student, grade_list)` is a tuple that contains the key and value\n",
        "> of each entry in the dictionary. We could also name the tuple as\n",
        "> `(key, value)` or `(a, b)`.\n",
        "\n",
        "## Conclusion\n",
        "\n",
        "Great! You’ve just navigated through the basics of dictionaries in\n",
        "Julia. Dictionaries are powerful data structures that allow for\n",
        "efficient data organization and retrieval. Continue to the next file to\n",
        "learn more advanced Julia concepts.\n",
        "\n",
        "# Solutions\n",
        "\n",
        "You will find the solutions to all exercises online\n",
        "[here](https://github.com/beyondsimulations/Optimization-with-Julia) in\n",
        "the `solutions` folders for each part. However, I strongly encourage you\n",
        "to work on these exercises independently without searching explicitly\n",
        "for the exact answers to the exercises. Understanding someone else’s\n",
        "solution is very different from developing your own. Use the lecture\n",
        "notes and try to solve the exercises on your own. This approach will\n",
        "significantly enhance your learning and problem-solving skills.\n",
        "\n",
        "Remember, the goal is not just to complete the exercises, but to\n",
        "understand the concepts and improve your programming abilities. If you\n",
        "encounter difficulties, review the lecture materials, experiment with\n",
        "different approaches, and don’t hesitate to ask for clarification during\n",
        "class discussions."
      ],
      "id": "28014ab4-c005-4504-98c7-9ea3ba6fd8c1"
    }
  ],
  "nbformat": 4,
  "nbformat_minor": 5,
  "metadata": {
    "kernel_info": {
      "name": "julia"
    },
    "kernelspec": {
      "name": "julia",
      "display_name": "Julia",
      "language": "julia"
    },
    "language_info": {
      "name": "julia",
      "codemirror_mode": "julia",
      "version": "1.11.2"
    }
  }
}