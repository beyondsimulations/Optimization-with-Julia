{
  "cells": [
    {
      "cell_type": "markdown",
      "metadata": {},
      "source": [
        "# Tutorial II.I - Functions in Julia\n",
        "\n",
        "Optimization with Julia\n",
        "\n",
        "# Introduction\n",
        "\n",
        "Imagine you have a helpful worker. Instead of explaining every little\n",
        "task to it each time, you can teach it specific jobs once, and then just\n",
        "ask it to do those jobs later. In programming, these “jobs” are called\n",
        "functions! This tutorial will show you how to create and use functions\n",
        "in Julia, making your code more organized and reusable.\n",
        "\n",
        "Follow the instructions, input your code in the designated areas, and\n",
        "verify your implementations with `@assert` statements.\n",
        "\n",
        "# Section 1 - Creating and Calling Functions\n",
        "\n",
        "Functions in Julia encapsulate reusable code and can be defined using\n",
        "the `function` keyword or shorthand syntax. After the keyword, you name\n",
        "the function and write the parameters in parentheses. Later, you can\n",
        "call the function by writing the name of the function followed by the\n",
        "parameters in parentheses.\n",
        "\n",
        "Thus, think of a function like a recipe:\n",
        "\n",
        "1.  It has a name (like “say_something”)\n",
        "2.  It might need ingredients (our “parameters”)\n",
        "3.  It has steps to follow (the code inside the function)\n",
        "4.  It usually produces something (we call this the “return value”)\n",
        "\n",
        "Let’s see some examples:"
      ],
      "id": "fd1643c5-1b60-45d2-a5b6-b557c2deb0de"
    },
    {
      "cell_type": "code",
      "execution_count": 1,
      "metadata": {},
      "outputs": [
        {
          "output_type": "display_data",
          "metadata": {},
          "data": {
            "text/plain": [
              "\"Hello, Elio!\""
            ]
          }
        }
      ],
      "source": [
        "# A simple function to greet someone\n",
        "function say_hello(name)\n",
        "    return \"Hello, $(name)!\"\n",
        "end\n",
        "\n",
        "# Using our function\n",
        "message = say_hello(\"Elio\")"
      ],
      "id": "2"
    },
    {
      "cell_type": "code",
      "execution_count": 1,
      "metadata": {},
      "outputs": [
        {
          "output_type": "display_data",
          "metadata": {},
          "data": {
            "text/plain": [
              "50"
            ]
          }
        }
      ],
      "source": [
        "function multiply(a,b)\n",
        "   a * b\n",
        "end\n",
        "multiply(10, 5)"
      ],
      "id": "4"
    },
    {
      "cell_type": "markdown",
      "metadata": {},
      "source": [
        "The second function takes two parameters, multiplies them, and returns\n",
        "the result implicitly. In Julia, the last expression is automatically\n",
        "returned, making the `return` keyword optional. If you explicitly use\n",
        "the `return` keyword in the function, it will return the value\n",
        "immediately once the function encounters the keyword and stops the\n",
        "further execution of the function. That way, you can also use the\n",
        "keyword in conditional statements and use it to return a value based on\n",
        "a condition. For example:"
      ],
      "id": "e6514209-af92-4d36-8db5-f7eab7c9107c"
    },
    {
      "cell_type": "code",
      "execution_count": 1,
      "metadata": {},
      "outputs": [
        {
          "output_type": "stream",
          "name": "stdout",
          "text": [
            "The result of do_something(10, 5) is 50\n",
            "The result of do_something(5, 10) is 15"
          ]
        }
      ],
      "source": [
        "function do_something(a,b)\n",
        "   if a > b\n",
        "      return a * b\n",
        "   else\n",
        "      return a + b\n",
        "   end\n",
        "end\n",
        "println(\"The result of do_something(10, 5) is $(do_something(10, 5))\")\n",
        "println(\"The result of do_something(5, 10) is $(do_something(5, 10))\")"
      ],
      "id": "6"
    },
    {
      "cell_type": "markdown",
      "metadata": {},
      "source": [
        "> **Tip**\n",
        ">\n",
        "> Functions are like teaching a robot new skills:\n",
        ">\n",
        "> -   The function name is like the skill name (e.g., “make_sandwich”)\n",
        "> -   Parameters are things the robot needs to do the job (e.g., bread,\n",
        ">     filling)\n",
        "> -   The code inside are the steps to follow\n",
        "> -   The return value is the finished product\n",
        "\n",
        "## Exercise 1.1 - Define and Test a Simple Addition Function\n",
        "\n",
        "Define and test a simple addition function. Define a function `add` that\n",
        "takes two parameters and returns their sum."
      ],
      "id": "c68b31f3-d189-4360-b2e4-6fa938f65468"
    },
    {
      "cell_type": "code",
      "execution_count": 0,
      "metadata": {},
      "outputs": [],
      "source": [
        "# YOUR CODE BELOW\n"
      ],
      "id": "8"
    },
    {
      "cell_type": "code",
      "execution_count": 0,
      "metadata": {},
      "outputs": [],
      "source": [
        "# Test your answer\n",
        "@assert add(10, 5) == 15 \"The sum computed is $(add(10, 5)) but should be 15.\"\n",
        "println(\"The sum computed is $(add(10, 5)), wonderful!\")"
      ],
      "id": "10"
    },
    {
      "cell_type": "markdown",
      "metadata": {},
      "source": [
        "# Section 2 - Scope within Functions\n",
        "\n",
        "When you create variables inside a function, they’re like secret\n",
        "ingredients - they only exist inside that function’s “kitchen”. We call\n",
        "this “local scope”. Thus, variables declared inside a function are local\n",
        "to that function and are not accessible outside."
      ],
      "id": "7aa128fa-081a-49c8-b384-0aa5911ccb5d"
    },
    {
      "cell_type": "code",
      "execution_count": 1,
      "metadata": {},
      "outputs": [
        {
          "output_type": "stream",
          "name": "stdout",
          "text": [
            "Adding the secret ingredient: vanilla extract"
          ]
        }
      ],
      "source": [
        "function bake_cake()\n",
        "    secret_ingredient = \"vanilla extract\"\n",
        "    println(\"Adding the secret ingredient: $secret_ingredient\")\n",
        "end\n",
        "bake_cake()  # This works fine"
      ],
      "id": "12"
    },
    {
      "cell_type": "code",
      "execution_count": 0,
      "metadata": {},
      "outputs": [],
      "source": [
        "# But this would cause an error:\n",
        "println(secret_ingredient)"
      ],
      "id": "14"
    },
    {
      "cell_type": "markdown",
      "metadata": {},
      "source": [
        "If you want to access the variable outside of the function, you have to\n",
        "explicitly return it. You can do this by passing `return` in front of\n",
        "the variable you want to return from the function.\n",
        "\n",
        "## Exercise 2.1 - Return a Local Variable\n",
        "\n",
        "Try to execute the following block of code. The objective is to\n",
        "understand how to return the `local_variable_one` from the function\n",
        "`scope_test`. Your task is to change the function, to return the value\n",
        "of `local_variable_one`."
      ],
      "id": "08692f0b-7a31-4e51-b584-4b25d3ab3e13"
    },
    {
      "cell_type": "code",
      "execution_count": 0,
      "metadata": {},
      "outputs": [],
      "source": [
        "# YOUR CHANGES BELOW\n",
        "function scope_test()\n",
        "    local_variable_one = 10\n",
        "    local_variable_two = 20\n",
        "end\n",
        "# YOUR CHANGES ABOVE"
      ],
      "id": "16"
    },
    {
      "cell_type": "code",
      "execution_count": 0,
      "metadata": {},
      "outputs": [],
      "source": [
        "# Test your function\n",
        "@assert scope_test() == 10 \"The value exported is $(scope_test()).\"\n",
        "println(\"The value exported is $(scope_test()), you solved it!\")"
      ],
      "id": "18"
    },
    {
      "cell_type": "markdown",
      "metadata": {},
      "source": [
        "## Exercise 2.2 - Define an Implicit Return Function\n",
        "\n",
        "Define and test an implicit return function. Define a function\n",
        "`subtract` that takes two parameters and implicitly returns their\n",
        "difference. The implicit return feature makes your code cleaner and more\n",
        "concise."
      ],
      "id": "3c883042-7fa0-418a-b57d-0b83ea125b1b"
    },
    {
      "cell_type": "code",
      "execution_count": 0,
      "metadata": {},
      "outputs": [],
      "source": [
        "# YOUR CODE BELOW\n"
      ],
      "id": "20"
    },
    {
      "cell_type": "code",
      "execution_count": 0,
      "metadata": {},
      "outputs": [],
      "source": [
        "# Test your answer\n",
        "@assert subtract(10, 5) == 5  \"The difference computed is $(subtract(10, 5)) but should be 5.\"\n",
        "println(\"The difference computed is $(subtract(10, 5)), perfect!\")"
      ],
      "id": "22"
    },
    {
      "cell_type": "markdown",
      "metadata": {},
      "source": [
        "# Section 3 - Multiple Dispatch\n",
        "\n",
        "Multiple dispatch in Julia allows defining function behavior based on\n",
        "argument types, promoting code reuse and clarity. It’s a powerful\n",
        "feature for designing flexible and extensible functions. We first define\n",
        "a generic version and then provide specific implementations for\n",
        "different types:"
      ],
      "id": "8bd2eaa7-6bdf-4484-8344-8e6ea7e1b88b"
    },
    {
      "cell_type": "code",
      "execution_count": 1,
      "metadata": {},
      "outputs": [
        {
          "output_type": "stream",
          "name": "stdout",
          "text": [
            "30\n",
            "Hello, World!\n",
            "Generic operation for objects of type String and Int64"
          ]
        }
      ],
      "source": [
        "# Generic operation for objects of all types.\n",
        "function operation(a, b)\n",
        "    \"Generic operation for objects of type $(typeof(a)) and $(typeof(b))\"\n",
        "end\n",
        "\n",
        "# The specific implementations are:\n",
        "operation(a::Number, b::Number) = a + b        # Specific method for Number types.\n",
        "operation(a::String, b::String) = string(a, b) # Specific method for String types.\n",
        "\n",
        "# Test with different types of arguments.\n",
        "result1 = operation(10, 20)\n",
        "println(result1)\n",
        "result2 = operation(\"Hello, \", \"World!\")\n",
        "println(result2)\n",
        "result3 = operation(\"Hello, \", 20)\n",
        "println(result3)"
      ],
      "id": "24"
    },
    {
      "cell_type": "markdown",
      "metadata": {},
      "source": [
        "## Exercise 3.1 - Match Results to Assertions\n",
        "\n",
        "Match the results from the previous example to the correct assertions:"
      ],
      "id": "8bc5f346-4907-46ea-a876-7596d161d974"
    },
    {
      "cell_type": "code",
      "execution_count": 0,
      "metadata": {},
      "outputs": [],
      "source": [
        "# YOUR CHANGES BELOW\n",
        "@assert result2 == 30 \"result1 should be the sum of two numbers\"\n",
        "@assert result3 == \"Hello, World!\" \"result2 should be the concatenation of two strings\"\n",
        "@assert result1 == \"Generic operation for objects of type String and Int64\" \"result3 should use the generic operation\"\n",
        "println(\"You solved it, the assertions are now correct!\")"
      ],
      "id": "26"
    },
    {
      "cell_type": "markdown",
      "metadata": {},
      "source": [
        "> **Tip**\n",
        ">\n",
        "> **Hint**: Look at the types of arguments used in each `operation` call\n",
        "> and match them to the appropriate method.\n",
        "\n",
        "# Conclusion\n",
        "\n",
        "Great work! You’ve just completed the tutorial on functions in Julia.\n",
        "You now have a first understanding of how to create, use, and understand\n",
        "functions in Julia. Continue to the next file to learn more.\n",
        "\n",
        "# Solutions\n",
        "\n",
        "You will find the solutions to all exercises online\n",
        "[here](https://github.com/beyondsimulations/Optimization-with-Julia) in\n",
        "the `solutions` folders for each part. However, I strongly encourage you\n",
        "to work on these exercises independently without searching explicitly\n",
        "for the exact answers to the exercises. Understanding someone else’s\n",
        "solution is very different from developing your own. Use the lecture\n",
        "notes and try to solve the exercises on your own. This approach will\n",
        "significantly enhance your learning and problem-solving skills.\n",
        "\n",
        "Remember, the goal is not just to complete the exercises, but to\n",
        "understand the concepts and improve your programming abilities. If you\n",
        "encounter difficulties, review the lecture materials, experiment with\n",
        "different approaches, and don’t hesitate to ask for clarification during\n",
        "class discussions."
      ],
      "id": "756adc40-fd88-4203-becd-baa86f542dde"
    }
  ],
  "nbformat": 4,
  "nbformat_minor": 5,
  "metadata": {
    "kernel_info": {
      "name": "julia"
    },
    "kernelspec": {
      "name": "julia",
      "display_name": "Julia",
      "language": "julia"
    },
    "language_info": {
      "name": "julia",
      "codemirror_mode": "julia",
      "version": "1.11.2"
    }
  }
}