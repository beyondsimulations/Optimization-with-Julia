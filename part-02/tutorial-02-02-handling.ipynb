{
  "cells": [
    {
      "cell_type": "markdown",
      "metadata": {},
      "source": [
        "# Tutorial II.II - Package Management\n",
        "\n",
        "Optimization with Julia\n",
        "\n",
        "# Introduction\n",
        "\n",
        "Welcome to this beginner-friendly guide on understanding packages and\n",
        "package management in Julia!\n",
        "\n",
        "Think of packages as pre-written sets of tools that extend what Julia\n",
        "can do. It’s like having a toolbox where you can add new tools\n",
        "(packages) to help you solve specific problems. For example, there are\n",
        "packages for working with data, creating visualizations, or solving\n",
        "complex math problems.\n",
        "\n",
        "The best part? Most Julia packages are free to use, thanks to the\n",
        "open-source community!\n",
        "\n",
        "> **Note**\n",
        ">\n",
        "> While we’ll practice some commands here, you’ll typically manage\n",
        "> packages in Julia’s REPL (Read-Eval-Print Loop), which is like Julia’s\n",
        "> command center.\n",
        "\n",
        "# Section 1 - Using the Package Manager\n",
        "\n",
        "Julia’s built-in package manager, Pkg, provides a robust set of tools\n",
        "for managing packages. To utilize these tools, start by importing the\n",
        "Pkg module. This module allows you to add, update, and remove packages,\n",
        "and manage environments efficiently. Note, `import PackageName` lets you\n",
        "access exported functions with `PackageName.function`, while\n",
        "`using PackageName` imports all exported names into the local namespace\n",
        "for direct access.\n",
        "\n",
        "## Exercise 1.1 - Import the Pkg Module\n",
        "\n",
        "Import the Pkg module to start managing packages effectively."
      ],
      "id": "d2b76f3d-ade4-452e-bdf7-2c1abb2e20c5"
    },
    {
      "cell_type": "code",
      "execution_count": 0,
      "metadata": {},
      "outputs": [],
      "source": [
        "# YOUR CODE BELOW\n"
      ],
      "id": "2"
    },
    {
      "cell_type": "code",
      "execution_count": 0,
      "metadata": {},
      "outputs": [],
      "source": [
        "# Test your answer\n",
        "try \n",
        "    Pkg.update()\n",
        "    println(\"Pkg module imported successfully and packages were updated!\")\n",
        "catch e\n",
        "    @error \"The Pkg module was not imported yet! Have you used the correct syntax?\"\n",
        "end"
      ],
      "id": "4"
    },
    {
      "cell_type": "markdown",
      "metadata": {},
      "source": [
        "# Section 2 - Adding Packages\n",
        "\n",
        "Adding packages in Julia is straightforward using the\n",
        "`Pkg.add(\"PackageName\")` function. Replace `PackageName` with the actual\n",
        "package name you wish to add.\n",
        "\n",
        "## Exercise 2.1 - Add the DataFrames Package\n",
        "\n",
        "Let’s add a popular package called DataFrames. It’s great for working\n",
        "with structured data, like spreadsheets."
      ],
      "id": "fe21c887-bc83-49db-881f-4daef1c3802e"
    },
    {
      "cell_type": "code",
      "execution_count": 1,
      "metadata": {},
      "outputs": [],
      "source": [
        "# YOUR CODE BELOW\n"
      ],
      "id": "6"
    },
    {
      "cell_type": "code",
      "execution_count": 0,
      "metadata": {},
      "outputs": [],
      "source": [
        "# Test your answer\n",
        "try \n",
        "    using DataFrames\n",
        "    println(\"Package added successfully!\")\n",
        "catch e\n",
        "    @error \"Package was not added yet! Have you used the correct syntax?\"\n",
        "end"
      ],
      "id": "8"
    },
    {
      "cell_type": "markdown",
      "metadata": {},
      "source": [
        "# Section 3 - Updating and Removing Packages\n",
        "\n",
        "Just like apps on your phone, packages can be updated or removed when\n",
        "you no longer need them.\n",
        "\n",
        "-   To update a package: `Pkg.update(\"PackageName\")`\n",
        "-   To update all packages: `Pkg.update()`\n",
        "-   To remove a package: `Pkg.rm(\"PackageName\")`\n",
        "\n",
        "If you wanted to update DataFrames, you’d use\n",
        "`Pkg.update(\"DataFrames\")`. To remove it, you’d use\n",
        "`Pkg.rm(\"DataFrames\")`.\n",
        "\n",
        "# Section 4 - Managing Environments\n",
        "\n",
        "Think of environments as separate workspaces for different projects.\n",
        "It’s like having different folders for different school subjects. It’s a\n",
        "best practice to create a new environment for each project to avoid\n",
        "conflicts between package versions. Activate a new environment with\n",
        "`Pkg.activate(\"new_environment\")` and add packages to it with\n",
        "`Pkg.add(\"PackageName\")`. This ensures that each of your projects has a\n",
        "clean, dedicated set of dependencies. When you create a new environment,\n",
        "Julia generates two important files:\n",
        "\n",
        "1.  `Project.toml`: Lists direct dependencies of your project.\n",
        "2.  `Manifest.toml`: Contains a complete dependency graph of your\n",
        "    project.\n",
        "\n",
        "These files help ensure reproducibility and should be version controlled\n",
        "with your project. But don’t worry, you don’t have to worry about this\n",
        "yet.\n",
        "\n",
        "> **Note**\n",
        ">\n",
        "> If you plan to stick to working with notebooks, you don’t have to care\n",
        "> about environments yet. Just use the regular environment for the\n",
        "> course and you don’t have to activate anything.\n",
        "\n",
        "## Conclusion\n",
        "\n",
        "Congratulations! You’ve completed the tutorial on packages and package\n",
        "management in Julia. These skills are important for effectively managing\n",
        "and utilizing external libraries. Continue to the next file to learn\n",
        "more.\n",
        "\n",
        "# Solutions\n",
        "\n",
        "You will find the solutions to all exercises online\n",
        "[here](https://github.com/beyondsimulations/Optimization-with-Julia) in\n",
        "the `solutions` folders for each part. However, I strongly encourage you\n",
        "to work on these exercises independently without searching explicitly\n",
        "for the exact answers to the exercises. Understanding someone else’s\n",
        "solution is very different from developing your own. Use the lecture\n",
        "notes and try to solve the exercises on your own. This approach will\n",
        "significantly enhance your learning and problem-solving skills.\n",
        "\n",
        "Remember, the goal is not just to complete the exercises, but to\n",
        "understand the concepts and improve your programming abilities. If you\n",
        "encounter difficulties, review the lecture materials, experiment with\n",
        "different approaches, and don’t hesitate to ask for clarification during\n",
        "class discussions."
      ],
      "id": "ce74acc4-d9b2-45c7-a1d4-72f5ff1df4f5"
    }
  ],
  "nbformat": 4,
  "nbformat_minor": 5,
  "metadata": {
    "kernel_info": {
      "name": "julia"
    },
    "kernelspec": {
      "name": "julia",
      "display_name": "Julia",
      "language": "julia"
    },
    "language_info": {
      "name": "julia",
      "codemirror_mode": "julia",
      "version": "1.11.2"
    }
  }
}