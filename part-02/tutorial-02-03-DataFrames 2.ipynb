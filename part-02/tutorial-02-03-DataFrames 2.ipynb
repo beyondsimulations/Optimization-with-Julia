{
  "cells": [
    {
      "cell_type": "markdown",
      "metadata": {},
      "source": [
        "# Tutorial II.III - DataFrames in Julia\n",
        "\n",
        "Optimization with Julia\n",
        "\n",
        "# Introduction\n",
        "\n",
        "Imagine a DataFrame as a digital spreadsheet. It’s a way to organize and\n",
        "work with data in rows and columns. Each column can hold different types\n",
        "of information, like names, ages, or salaries. In this tutorial, we’ll\n",
        "learn how to create DataFrames, add and change data, and perform simple\n",
        "operations on our data.\n",
        "\n",
        "> **Note**\n",
        ">\n",
        "> Before we start, make sure you have the DataFrames package installed.\n",
        "> If you’re not sure how to do this, check the previous tutorial on\n",
        "> package management!\n",
        "\n",
        "Let’s begin by importing the DataFrames package:"
      ],
      "id": "f957034b-a273-4f83-84f8-9c9e2c1e10f0"
    },
    {
      "cell_type": "code",
      "execution_count": 1,
      "metadata": {},
      "outputs": [
        {
          "output_type": "stream",
          "name": "stdout",
          "text": [
            "Precompiling DataFrames...\n",
            "  18928.7 ms  ✓ DataFrames\n",
            "  1 dependency successfully precompiled in 19 seconds. 32 already precompiled.\n",
            "Precompiling QuartoNotebookWorkerDataFramesTablesExt...\n",
            "   1343.8 ms  ✓ QuartoNotebookWorker → QuartoNotebookWorkerDataFramesTablesExt\n",
            "  1 dependency successfully precompiled in 1 seconds. 54 already precompiled."
          ]
        }
      ],
      "source": [
        "# Import the DataFrames package\n",
        "using DataFrames"
      ],
      "id": "4"
    },
    {
      "cell_type": "markdown",
      "metadata": {},
      "source": [
        "# Section 1 - Creating DataFrames\n",
        "\n",
        "A DataFrame in Julia is akin to a table in SQL or a spreadsheet - each\n",
        "column can have its own type, making it highly versatile. A DataFrame\n",
        "can be created using the DataFrame constructor and passing key-value\n",
        "pairs where the key is the column name and the value is an array of\n",
        "data. For more help, use `?` in the REPL and type `DataFrame`. Example:"
      ],
      "id": "b69d6aaa-3932-4892-a289-d3fa1155017b"
    },
    {
      "cell_type": "code",
      "execution_count": 1,
      "metadata": {},
      "outputs": [
        {
          "output_type": "display_data",
          "metadata": {},
          "data": {
            "text/html": [
              "</div>"
            ]
          }
        }
      ],
      "source": [
        "students = DataFrame(\n",
        "    Name = [\"Elio\", \"Bob\", \"Yola\"], \n",
        "    Age = [18, 25,29], \n",
        ")"
      ],
      "id": "6"
    },
    {
      "cell_type": "markdown",
      "metadata": {},
      "source": [
        "## Exercise 1.1 - Create a DataFrame\n",
        "\n",
        "Create and Test a DataFrame. Create a DataFrame named `employees` with\n",
        "the columns `Name`, `Age`, and `Salary`, and populate it with the\n",
        "specified data: John is `28` years old and earns `50000`, Mike is `23`\n",
        "years old and earns `62000`. Frank is `37` years old and earns `90000`."
      ],
      "id": "5c95f623-de5f-4eaa-abb8-b7baefd61144"
    },
    {
      "cell_type": "code",
      "execution_count": 0,
      "metadata": {},
      "outputs": [],
      "source": [
        "# YOUR CODE BELOW\n"
      ],
      "id": "8"
    },
    {
      "cell_type": "code",
      "execution_count": 0,
      "metadata": {},
      "outputs": [],
      "source": [
        "# Test your answer\n",
        "@assert employees == DataFrame(\n",
        "    Name = [\"John\", \"Mike\", \"Frank\"], \n",
        "    Age = [28, 23, 37], \n",
        "    Salary = [50000, 62000, 90000]\n",
        ")\n",
        "println(\"DataFrame created successfully!\")\n",
        "println(employees)"
      ],
      "id": "10"
    },
    {
      "cell_type": "markdown",
      "metadata": {},
      "source": [
        "> **Tip**\n",
        ">\n",
        "> Remember, for more help, use `?` in the REPL and type `DataFrame`.\n",
        "\n",
        "# Section 2 - Accessing and Modifying Data\n",
        "\n",
        "Accessing columns in a DataFrame can be done using the dot syntax, while\n",
        "rows can be accessed via indexing. Modification of data is\n",
        "straightforward; just assign a new value to the desired cell. To access\n",
        "the column ‘name’ in our DataFrame with `employees`, we could do:"
      ],
      "id": "74315957-18af-4bda-b923-3cbdd5f3b4a2"
    },
    {
      "cell_type": "code",
      "execution_count": 1,
      "metadata": {},
      "outputs": [
        {
          "output_type": "display_data",
          "metadata": {},
          "data": {
            "text/plain": [
              "3-element Vector{String}:\n",
              " \"John\"\n",
              " \"Mike\"\n",
              " \"Frank\""
            ]
          }
        }
      ],
      "source": [
        "employees.Name"
      ],
      "id": "14"
    },
    {
      "cell_type": "markdown",
      "metadata": {},
      "source": [
        "To access the third name specifically, we could do:"
      ],
      "id": "8fa9a493-15e8-4962-ae9c-f177e50737dd"
    },
    {
      "cell_type": "code",
      "execution_count": 1,
      "metadata": {},
      "outputs": [
        {
          "output_type": "display_data",
          "metadata": {},
          "data": {
            "text/plain": [
              "\"Frank\""
            ]
          }
        }
      ],
      "source": [
        "employees.Name[3]"
      ],
      "id": "16"
    },
    {
      "cell_type": "markdown",
      "metadata": {},
      "source": [
        "## Exercise 2.1 - Access the `Age` Column\n",
        "\n",
        "Access the `Age` column from the DataFrame and save it in a new variable\n",
        "`ages`."
      ],
      "id": "71233058-d958-40fc-932c-1e6e0b8ad75d"
    },
    {
      "cell_type": "code",
      "execution_count": 0,
      "metadata": {},
      "outputs": [],
      "source": [
        "# YOUR CODE BELOW\n"
      ],
      "id": "18"
    },
    {
      "cell_type": "code",
      "execution_count": 0,
      "metadata": {},
      "outputs": [],
      "source": [
        "# Test your answer\n",
        "@assert ages == [28, 23, 37]\n",
        "println(\"Correct, the Ages column is: \", ages)"
      ],
      "id": "20"
    },
    {
      "cell_type": "markdown",
      "metadata": {},
      "source": [
        "## Exercise 2.2 - Update John’s Salary\n",
        "\n",
        "Update John’s salary to `59000`."
      ],
      "id": "e4bc37a4-8330-4623-8d4d-b274d2bbf758"
    },
    {
      "cell_type": "code",
      "execution_count": 0,
      "metadata": {},
      "outputs": [],
      "source": [
        "# YOUR CODE BELOW\n"
      ],
      "id": "22"
    },
    {
      "cell_type": "code",
      "execution_count": 0,
      "metadata": {},
      "outputs": [],
      "source": [
        "# Test your answer\n",
        "@assert employees.Salary[1] == 59000\n",
        "println(\"Modified DataFrame: \")\n",
        "println(employees)"
      ],
      "id": "24"
    },
    {
      "cell_type": "markdown",
      "metadata": {},
      "source": [
        "# Section 3 - Filtering Data\n",
        "\n",
        "Logical indexing can be used to filter rows in a DataFrame based on\n",
        "conditions. To filter the DataFrame to include only employees names\n",
        "“Frank” we could do:"
      ],
      "id": "21afdbd9-0d9f-4398-b070-38e9c661a6f6"
    },
    {
      "cell_type": "code",
      "execution_count": 1,
      "metadata": {},
      "outputs": [
        {
          "output_type": "display_data",
          "metadata": {},
          "data": {
            "text/html": [
              "</div>"
            ]
          }
        }
      ],
      "source": [
        "allFranks = employees[employees.Name .== \"Frank\", :]"
      ],
      "id": "26"
    },
    {
      "cell_type": "markdown",
      "metadata": {},
      "source": [
        "Alternatively, the filter function provides a powerful tool to extract\n",
        "subsets of data based on a condition:"
      ],
      "id": "0deb36c8-4c5b-4098-96b9-5eeab7a056f1"
    },
    {
      "cell_type": "code",
      "execution_count": 1,
      "metadata": {},
      "outputs": [
        {
          "output_type": "display_data",
          "metadata": {},
          "data": {
            "text/html": [
              "</div>"
            ]
          }
        }
      ],
      "source": [
        "allFranks = filter(row -> row.Name == \"Frank\", employees)"
      ],
      "id": "28"
    },
    {
      "cell_type": "markdown",
      "metadata": {},
      "source": [
        "## Exercise 3.1 - Filter the DataFrame\n",
        "\n",
        "Filter the DataFrame to include only employees with salaries above\n",
        "`60000`. Save the resulting employees in the DataFrame `high_earners`."
      ],
      "id": "a332a854-4758-4a73-b84b-16f523352b8a"
    },
    {
      "cell_type": "code",
      "execution_count": 0,
      "metadata": {},
      "outputs": [],
      "source": [
        "# YOUR CODE BELOW\n"
      ],
      "id": "30"
    },
    {
      "cell_type": "code",
      "execution_count": 0,
      "metadata": {},
      "outputs": [],
      "source": [
        "# Test your answer\n",
        "@assert nrow(high_earners) == 2\n",
        "println(\"High earners: \")\n",
        "println(high_earners)"
      ],
      "id": "32"
    },
    {
      "cell_type": "markdown",
      "metadata": {},
      "source": [
        "# Section 4 - Basic Data Manipulation\n",
        "\n",
        "Julia provides functions for basic data manipulation tasks, including\n",
        "sorting, grouping, and joining DataFrames. The `sort` function can be\n",
        "used to order the rows in a DataFrame based on the values in one or more\n",
        "columns. To see how to use the function, type `?` into the REPL\n",
        "(terminal) and type `sort`.\n",
        "\n",
        "## Exercise 4.1 - Sort the DataFrame\n",
        "\n",
        "Sort the DataFrame based on the `Age` column and save it as `sorted_df`."
      ],
      "id": "1af91fc6-526b-48dd-a84d-6ab306652aa7"
    },
    {
      "cell_type": "code",
      "execution_count": 0,
      "metadata": {},
      "outputs": [],
      "source": [
        "# YOUR CODE BELOW\n"
      ],
      "id": "34"
    },
    {
      "cell_type": "code",
      "execution_count": 0,
      "metadata": {},
      "outputs": [],
      "source": [
        "# Test your answer\n",
        "@assert sorted_df.Age[1] == 23\n",
        "println(\"DataFrame sorted by age: \")\n",
        "println(sorted_df)"
      ],
      "id": "36"
    },
    {
      "cell_type": "markdown",
      "metadata": {},
      "source": [
        "> **Tip**\n",
        ">\n",
        "> If you have more complicated data structures, take a look at JSON\n",
        "> files which can be used to work with all kind of differently\n",
        "> structured data sets.\n",
        "\n",
        "# Section 5 - Loop over DataFrames\n",
        "\n",
        "Sometimes, you might need to iterate over the rows of a DataFrame to\n",
        "perform operations on each row individually. Julia provides a convenient\n",
        "way to do this using the `eachrow` function. For example, if we want to\n",
        "check for each employee if they have a salary above 60000, we can do the\n",
        "following:"
      ],
      "id": "f860451c-e48b-48e0-8da0-898d020f7e18"
    },
    {
      "cell_type": "code",
      "execution_count": 1,
      "metadata": {},
      "outputs": [
        {
          "output_type": "stream",
          "name": "stdout",
          "text": [
            "Mike earns more than 60000\n",
            "Frank earns more than 60000"
          ]
        }
      ],
      "source": [
        "for row in eachrow(employees)\n",
        "    if row.Salary > 60000\n",
        "        println(\"$(row.Name) earns more than 60000\")\n",
        "    end\n",
        "end"
      ],
      "id": "38"
    },
    {
      "cell_type": "markdown",
      "metadata": {},
      "source": [
        "Here, the `row` holds all the values of the row as a `NamedTuple`. We\n",
        "can access the values of a column then by using the dot syntax. To\n",
        "create a new column, we can use the `push!` function. For example, to\n",
        "create a new column called `VacationDays` in the `employees` DataFrame,\n",
        "we can do one of the following:"
      ],
      "id": "dd968ef7-2ddf-4491-84d0-728fda803d19"
    },
    {
      "cell_type": "code",
      "execution_count": 1,
      "metadata": {},
      "outputs": [
        {
          "output_type": "display_data",
          "metadata": {},
          "data": {
            "text/plain": [
              "3-element Vector{Int64}:\n",
              " 0\n",
              " 0\n",
              " 0"
            ]
          }
        }
      ],
      "source": [
        "employees.VacationDays = [0 for row in eachrow(employees)]\n",
        "employees.VacationDays .= 0"
      ],
      "id": "40"
    },
    {
      "cell_type": "markdown",
      "metadata": {},
      "source": [
        "## Exercise 5.1 - Loop over DataFrame\n",
        "\n",
        "Create a new column called `Bonus` in the `employees` DataFrame. The\n",
        "bonus should be calculated as 10% of the salary for employees over 30,\n",
        "and 5% for those 30 and under. Use a loop to iterate over the rows and\n",
        "calculate the bonus."
      ],
      "id": "26c6d6fc-3604-4f03-b478-977f780af64b"
    },
    {
      "cell_type": "code",
      "execution_count": 0,
      "metadata": {},
      "outputs": [],
      "source": [
        "# YOUR CODE BELOW\n"
      ],
      "id": "42"
    },
    {
      "cell_type": "code",
      "execution_count": 0,
      "metadata": {},
      "outputs": [],
      "source": [
        "# Test your answer\n",
        "@assert filter(\n",
        "    row -> row.Bonus == 2950, \n",
        "    employees\n",
        ").Name == [\"John\"] \"John should have a bonus of 2950\"\n",
        "@assert filter(\n",
        "    row -> row.Bonus == 3100, \n",
        "    employees\n",
        ").Name == [\"Mike\"] \"Mike should have a bonus of 3100\"\n",
        "@assert filter(\n",
        "    row -> row.Bonus == 9000, \n",
        "    employees\n",
        ").Name == [\"Frank\"] \"Frank should have a bonus of 9000\"\n",
        "println(\"Great job! All the bonuses are correct!\")"
      ],
      "id": "44"
    },
    {
      "cell_type": "markdown",
      "metadata": {},
      "source": [
        "# Section 6 - Filling a new DataFrame with values\n",
        "\n",
        "Do you remember the `push!` function? We can use it to fill a new\n",
        "DataFrame with values. For example, we can create a new DataFrame called\n",
        "`WorkingHours` and fill it with the values from the `employees`\n",
        "DataFrame. Imagine that the company has a policy, where employees above\n",
        "30 work 30 hours a week, and employees under 30 work 40 hours a week:"
      ],
      "id": "27bdc0ba-b3bb-4c4b-889b-00784a179abf"
    },
    {
      "cell_type": "code",
      "execution_count": 1,
      "metadata": {},
      "outputs": [
        {
          "output_type": "stream",
          "name": "stdout",
          "text": [
            "3×2 DataFrame\n",
            " Row │ Name    Hours \n",
            "     │ String  Int64 \n",
            "─────┼───────────────\n",
            "   1 │ John       40\n",
            "   2 │ Mike       40\n",
            "   3 │ Frank      30"
          ]
        }
      ],
      "source": [
        "# Create a new DataFrame\n",
        "WorkingHours = DataFrame(\n",
        "    Name = String[],\n",
        "    Hours = Int[]\n",
        ")\n",
        "# Loop over the rows of the employees DataFrame\n",
        "for row in eachrow(employees)\n",
        "    if row.Age < 30\n",
        "        push!(WorkingHours, (\n",
        "            Name = row.Name, \n",
        "            Hours = 40\n",
        "        ))\n",
        "    else\n",
        "        push!(WorkingHours, (\n",
        "            Name = row.Name, \n",
        "            Hours = 30\n",
        "        ))\n",
        "    end\n",
        "end\n",
        "println(WorkingHours)"
      ],
      "id": "46"
    },
    {
      "cell_type": "markdown",
      "metadata": {},
      "source": [
        "# Conclusion\n",
        "\n",
        "Fantastic work! You’ve completed the tutorial on DataFrames in Julia.\n",
        "You’ve seen how to create DataFrames and access, modify and filter data.\n",
        "Continue to the next file to learn more.\n",
        "\n",
        "# Solutions\n",
        "\n",
        "You will find the solutions to all exercises online\n",
        "[here](https://github.com/beyondsimulations/Optimization-with-Julia) in\n",
        "the `solutions` folders for each part. However, I strongly encourage you\n",
        "to work on these exercises independently without searching explicitly\n",
        "for the exact answers to the exercises. Understanding someone else’s\n",
        "solution is very different from developing your own. Use the lecture\n",
        "notes and try to solve the exercises on your own. This approach will\n",
        "significantly enhance your learning and problem-solving skills.\n",
        "\n",
        "Remember, the goal is not just to complete the exercises, but to\n",
        "understand the concepts and improve your programming abilities. If you\n",
        "encounter difficulties, review the lecture materials, experiment with\n",
        "different approaches, and don’t hesitate to ask for clarification during\n",
        "class discussions."
      ],
      "id": "ab4a9fe6-23cf-43a2-80b4-1b62c758fa0f"
    }
  ],
  "nbformat": 4,
  "nbformat_minor": 5,
  "metadata": {
    "kernel_info": {
      "name": "julia"
    },
    "kernelspec": {
      "name": "julia",
      "display_name": "Julia",
      "language": "julia"
    },
    "language_info": {
      "name": "julia",
      "codemirror_mode": "julia",
      "version": "1.11.2"
    }
  }
}