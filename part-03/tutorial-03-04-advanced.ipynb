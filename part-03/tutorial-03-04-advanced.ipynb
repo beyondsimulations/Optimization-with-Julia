{
  "cells": [
    {
      "cell_type": "markdown",
      "metadata": {},
      "source": [
        "# Tutorial III.IV - Advanced Solver Options with HiGHS in JuMP\n",
        "\n",
        "Optimization with Julia\n",
        "\n",
        "# Introduction\n",
        "\n",
        "Welcome to this tutorial on advanced solver options in JuMP using the\n",
        "HiGHS solver! Don’t worry if “advanced solver options” sounds\n",
        "intimidating - we’ll break everything down into simple,\n",
        "easy-to-understand concepts.\n",
        "\n",
        "Imagine you’re using a GPS app to find the best route to a new\n",
        "restaurant. Just like how you can adjust settings in your GPS (like\n",
        "avoiding toll roads or preferring highways), we can adjust settings in\n",
        "our optimization solver to help it find solutions more efficiently or to\n",
        "meet specific requirements.\n",
        "\n",
        "By the end of this tutorial, you’ll be able to: 1. Understand what\n",
        "solver options are and why they’re useful 2. Set basic solver options\n",
        "like time limits and solution tolerances 3. Interpret solver output to\n",
        "understand how well your problem was solved\n",
        "\n",
        "Let’s start by loading the necessary packages:"
      ],
      "id": "657802fb-ea24-405a-84ed-63719b077aae"
    },
    {
      "cell_type": "code",
      "execution_count": 1,
      "metadata": {},
      "outputs": [
        {
          "output_type": "stream",
          "name": "stdout",
          "text": [
            "Precompiling JuMP...\n",
            "  37407.0 ms  ✓ MathOptInterface\n",
            "   9932.4 ms  ✓ JuMP\n",
            "  2 dependencies successfully precompiled in 47 seconds. 54 already precompiled.\n",
            "Precompiling HiGHS...\n",
            "   7420.7 ms  ✓ HiGHS\n",
            "  1 dependency successfully precompiled in 8 seconds. 56 already precompiled."
          ]
        }
      ],
      "source": [
        "using JuMP, HiGHS"
      ],
      "id": "4"
    },
    {
      "cell_type": "markdown",
      "metadata": {},
      "source": [
        "# Section 1: Understanding Solver Options\n",
        "\n",
        "Solver options are like the “advanced settings” of our optimization\n",
        "tool. They allow us to control how the solver approaches our problem.\n",
        "Here are a few common options:\n",
        "\n",
        "1.  **Time limit**: How long the solver should try before giving up\n",
        "2.  **Solution tolerance**: How precise we need the answer to be\n",
        "3.  **Presolve**: Whether to simplify the problem before solving it\n",
        "\n",
        "Let’s create a model and set some of these options:"
      ],
      "id": "0d5c68e2-e8a3-4cba-ba55-e979f3c71216"
    },
    {
      "cell_type": "code",
      "execution_count": 1,
      "metadata": {},
      "outputs": [
        {
          "output_type": "stream",
          "name": "stdout",
          "text": [
            "Solver options set successfully!"
          ]
        }
      ],
      "source": [
        "model = Model(HiGHS.Optimizer)\n",
        "\n",
        "# Set a time limit of 60 seconds\n",
        "set_time_limit_sec(model, 60)\n",
        "\n",
        "# Set the relative MIP gap tolerance to 1%\n",
        "set_optimizer_attribute(model, \"mip_rel_gap\", 0.01)\n",
        "\n",
        "# Turn on presolve\n",
        "set_optimizer_attribute(model, \"presolve\", \"on\")\n",
        "\n",
        "println(\"Solver options set successfully!\")"
      ],
      "id": "6"
    },
    {
      "cell_type": "markdown",
      "metadata": {},
      "source": [
        "Let’s break this down:\n",
        "\n",
        "-   `set_time_limit_sec(model, 60)` tells the solver to stop after 60\n",
        "    seconds if it hasn’t found a solution\n",
        "-   `set_optimizer_attribute(model, \"mip_rel_gap\", 0.01)` sets how close\n",
        "    to the best possible solution we need to be (within 1%)\n",
        "-   `set_optimizer_attribute(model, \"presolve\", \"on\")` tells the solver\n",
        "    to try simplifying the problem first\n",
        "\n",
        "## Exercise 1.1 - Set Solver Options\n",
        "\n",
        "Now it’s your turn! Set the following solver options: 1. A time limit of\n",
        "120 seconds 2. A MIP gap tolerance of 0.5% 3. Turn off presolve"
      ],
      "id": "c09d2b09-7791-4d20-a03c-23c3d3092a1a"
    },
    {
      "cell_type": "code",
      "execution_count": 1,
      "metadata": {},
      "outputs": [],
      "source": [
        "# YOUR CODE BELOW\n"
      ],
      "id": "8"
    },
    {
      "cell_type": "code",
      "execution_count": 0,
      "metadata": {},
      "outputs": [],
      "source": [
        "# Test your answer\n",
        "@assert time_limit_sec(model) == 120 \"The time limit should be 120 seconds but is $(time_limit_sec(model))\"\n",
        "@assert solver_name(model) == \"HiGHS\" \"The solver should be HiGHS but is $(solver_name(model))\"\n",
        "@assert MOI.get(model, MOI.RawOptimizerAttribute(\"mip_rel_gap\")) == 0.005 \"The MIP gap should be 0.5% but is $(MOI.get(model, MOI.RawOptimizerAttribute(\"mip_rel_gap\")))\"\n",
        "@assert MOI.get(model, MOI.RawOptimizerAttribute(\"presolve\")) == \"off\" \"Presolve should be off but is $(MOI.get(model, MOI.RawOptimizerAttribute(\"presolve\")))\"\n",
        "println(\"Great job! You've successfully set advanced solver options.\")"
      ],
      "id": "10"
    },
    {
      "cell_type": "markdown",
      "metadata": {},
      "source": [
        "# Section 2: Creating and Solving a Sample Problem\n",
        "\n",
        "To see how these options affect solving, let’s create a simple\n",
        "optimization problem. We’ll use a basic production planning scenario.\n",
        "\n",
        "Imagine you’re managing a small factory that produces two types of\n",
        "products: widgets and gadgets. You want to maximize profit while staying\n",
        "within your production capacity."
      ],
      "id": "34f65a07-7fa0-4d14-8017-22019ffad4e1"
    },
    {
      "cell_type": "code",
      "execution_count": 1,
      "metadata": {},
      "outputs": [
        {
          "output_type": "stream",
          "name": "stdout",
          "text": [
            "Running HiGHS 1.9.0 (git hash: 66f735e60): Copyright (c) 2024 HiGHS under MIT licence terms\n",
            "Coefficient ranges:\n",
            "  Matrix [1e+00, 3e+00]\n",
            "  Cost   [2e+01, 3e+01]\n",
            "  Bound  [0e+00, 0e+00]\n",
            "  RHS    [6e+01, 2e+02]\n",
            "Presolving model\n",
            "1 rows, 2 cols, 2 nonzeros  0s\n",
            "1 rows, 2 cols, 2 nonzeros  0s\n",
            "Objective function is integral with scale 0.2\n",
            "\n",
            "Solving MIP model with:\n",
            "   1 rows\n",
            "   2 cols (0 binary, 2 integer, 0 implied int., 0 continuous)\n",
            "   2 nonzeros\n",
            "\n",
            "Src: B => Branching; C => Central rounding; F => Feasibility pump; H => Heuristic; L => Sub-MIP;\n",
            "     P => Empty MIP; R => Randomized rounding; S => Solve LP; T => Evaluate node; U => Unbounded;\n",
            "     z => Trivial zero; l => Trivial lower; u => Trivial upper; p => Trivial point\n",
            "\n",
            "        Nodes      |    B&B Tree     |            Objective Bounds              |  Dynamic Constraints |       Work      \n",
            "Src  Proc. InQueue |  Leaves   Expl. | BestBound       BestSol              Gap |   Cuts   InLp Confl. | LpIters     Time\n",
            "\n",
            " z       0       0         0   0.00%   inf             -0                 Large        0     -1      0         0     0.0s\n",
            " S       0       0         0   0.00%   3800            2780              36.69%        0      0      0         0     0.0s\n",
            "         1       0         1 100.00%   2800            2780               0.72%        0      0      0         1     0.0s\n",
            "\n",
            "Solving report\n",
            "  Status            Optimal\n",
            "  Primal bound      2780\n",
            "  Dual bound        2800\n",
            "  Gap               0.719% (tolerance: 1%)\n",
            "  P-D integral      4.48410965422e-06\n",
            "  Solution status   feasible\n",
            "                    2780 (objective)\n",
            "                    0 (bound viol.)\n",
            "                    0 (int. viol.)\n",
            "                    0 (row viol.)\n",
            "  Timing            0.00 (total)\n",
            "                    0.00 (presolve)\n",
            "                    0.00 (solve)\n",
            "                    0.00 (postsolve)\n",
            "  Max sub-MIP depth 0\n",
            "  Nodes             1\n",
            "  Repair LPs        0 (0 feasible; 0 iterations)\n",
            "  LP iterations     1 (total)\n",
            "                    0 (strong br.)\n",
            "                    0 (separation)\n",
            "                    0 (heuristics)\n",
            "Optimization status: OPTIMAL\n",
            "Objective value: 2780.0\n",
            "Widgets to produce: 80.0\n",
            "Gadgets to produce: 26.0"
          ]
        }
      ],
      "source": [
        "# Define variables\n",
        "@variable(model, widgets >= 0, Int) \n",
        "@variable(model, gadgets >= 0, Int)\n",
        "\n",
        "# Define constraints\n",
        "@constraint(model, \n",
        "    production_time, \n",
        "    2*widgets + 3*gadgets <= 240\n",
        ") \n",
        "@constraint(model, \n",
        "    widget_demand, \n",
        "    widgets <= 80\n",
        ")  \n",
        "@constraint(model, \n",
        "    gadget_demand, \n",
        "    gadgets <= 60\n",
        ")\n",
        "\n",
        "# Define objective (profit)\n",
        "@objective(model, \n",
        "    Max, \n",
        "    25*widgets + 30*gadgets\n",
        ")\n",
        "\n",
        "# Solve the problem\n",
        "optimize!(model)\n",
        "\n",
        "# Print results\n",
        "println(\"Optimization status: \", termination_status(model))\n",
        "println(\"Objective value: \", objective_value(model))\n",
        "println(\"Widgets to produce: \", value(widgets))\n",
        "println(\"Gadgets to produce: \", value(gadgets))"
      ],
      "id": "12"
    },
    {
      "cell_type": "markdown",
      "metadata": {},
      "source": [
        "This problem determines how many widgets and gadgets to produce to\n",
        "maximize profit, given time constraints and maximum demand.\n",
        "\n",
        "## Exercise 2.1 - Modify and Solve the Problem\n",
        "\n",
        "Now it’s your turn! Modify the problem above by:\n",
        "\n",
        "1.  Changing the production time constraint to 300 minutes\n",
        "2.  Increasing the profit for widgets to 30\n",
        "3.  Solving the modified problem and printing the results"
      ],
      "id": "98b8c328-bf40-4606-a25a-087c53c65055"
    },
    {
      "cell_type": "code",
      "execution_count": 0,
      "metadata": {},
      "outputs": [],
      "source": [
        "# YOUR CODE BELOW\n",
        "# Hint: Copy the code above and make the necessary changes\n",
        "model = Model(HiGHS.Optimizer) # Don't forget to re-initialize the model\n"
      ],
      "id": "14"
    },
    {
      "cell_type": "code",
      "execution_count": 0,
      "metadata": {},
      "outputs": [],
      "source": [
        "# Test your answer\n",
        "@assert termination_status(model) == MOI.OPTIMAL \"The termination status should be OPTIMAL but is $(termination_status(model))\"\n",
        "@assert isapprox(objective_value(model), 3780, atol=1e-6) \"The objective value should be 3780 but is $(objective_value(model))\"\n",
        "@assert isapprox(value(widgets), 80, atol=1e-6) \"The number of widgets to produce should be 80 but is $(value(widgets))\"\n",
        "@assert isapprox(value(gadgets), 46, atol=1e-6) \"The number of gadgets to produce should be 46 but is $(value(gadgets))\"\n",
        "println(\"Excellent work! You've successfully modified and solved the optimization problem.\")"
      ],
      "id": "16"
    },
    {
      "cell_type": "markdown",
      "metadata": {},
      "source": [
        "# Section 3: Interpreting Solver Output\n",
        "\n",
        "When we solve an optimization problem, the solver gives us information\n",
        "about how it went. Let’s look at some key pieces of information:"
      ],
      "id": "30718bf7-62ee-4a96-915e-f7c3a772c49f"
    },
    {
      "cell_type": "code",
      "execution_count": 0,
      "metadata": {},
      "outputs": [],
      "source": [
        "println(\"Termination status: \", termination_status(model))\n",
        "println(\"Primal status: \", primal_status(model))\n",
        "println(\"Dual status: \", dual_status(model))\n",
        "println(\"Objective value: \", objective_value(model))\n",
        "println(\"Solve time: \", solve_time(model))"
      ],
      "id": "18"
    },
    {
      "cell_type": "markdown",
      "metadata": {},
      "source": [
        "Let’s break this down:\n",
        "\n",
        "-   **Termination status**: Tells if the solver found an optimal\n",
        "    solution, ran out of time, etc.\n",
        "-   **Primal status**: Indicates if we have a valid solution for our\n",
        "    original problem\n",
        "-   **Dual status**: Relates to the mathematical properties of the\n",
        "    solution (don’t worry too much about this)\n",
        "-   **Objective value**: The value of our objective function (in this\n",
        "    case, our profit)\n",
        "-   **Solve time**: How long it took to solve the problem\n",
        "\n",
        "# Conclusion\n",
        "\n",
        "Well done! You’ve completed the tutorial on advanced solver options with\n",
        "HiGHS in JuMP. You’ve learned how to set advanced solver options.\n",
        "Continue to the next file to learn more.\n",
        "\n",
        "# Solutions\n",
        "\n",
        "You will find the solutions to all exercises online\n",
        "[here](https://github.com/beyondsimulations/Optimization-with-Julia) in\n",
        "the `solutions` folders for each part. However, I strongly encourage you\n",
        "to work on these exercises independently without searching explicitly\n",
        "for the exact answers to the exercises. Understanding someone else’s\n",
        "solution is very different from developing your own. Use the lecture\n",
        "notes and try to solve the exercises on your own. This approach will\n",
        "significantly enhance your learning and problem-solving skills.\n",
        "\n",
        "Remember, the goal is not just to complete the exercises, but to\n",
        "understand the concepts and improve your programming abilities. If you\n",
        "encounter difficulties, review the lecture materials, experiment with\n",
        "different approaches, and don’t hesitate to ask for clarification during\n",
        "class discussions."
      ],
      "id": "2462b7a3-b038-4333-9238-08670f373932"
    }
  ],
  "nbformat": 4,
  "nbformat_minor": 5,
  "metadata": {
    "kernel_info": {
      "name": "julia"
    },
    "kernelspec": {
      "name": "julia",
      "display_name": "Julia",
      "language": "julia"
    },
    "language_info": {
      "name": "julia",
      "codemirror_mode": "julia",
      "version": "1.11.2"
    }
  }
}